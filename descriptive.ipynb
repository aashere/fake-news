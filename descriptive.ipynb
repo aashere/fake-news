{
 "cells": [
  {
   "cell_type": "code",
   "execution_count": 126,
   "id": "d3bdb590-aa43-4b27-8310-0668c11f7bf7",
   "metadata": {},
   "outputs": [],
   "source": [
    "import pandas as pd\n",
    "import matplotlib.pyplot as plt\n",
    "import dataframe_image as dfi"
   ]
  },
  {
   "cell_type": "code",
   "execution_count": 127,
   "id": "293daaad-1d5d-4919-ae1f-1f769848ea0d",
   "metadata": {},
   "outputs": [],
   "source": [
    "file_paths = {\n",
    "    'fake': {\n",
    "        'read': 'data/processed/full_dataset/fake_dataset.csv'\n",
    "    },\n",
    "    'real': {\n",
    "        'read': 'data/processed/full_dataset/real_dataset.csv'\n",
    "    }\n",
    "}"
   ]
  },
  {
   "cell_type": "code",
   "execution_count": 128,
   "id": "e5c10595-f58b-4fb1-9c70-97d79a2abc21",
   "metadata": {},
   "outputs": [],
   "source": [
    "# Read in the datasets\n",
    "fake_df = pd.read_csv(file_paths['fake']['read'], encoding='utf8')\n",
    "real_df = pd.read_csv(file_paths['real']['read'], encoding='utf8')\n",
    "\n",
    "# Restrict to English only\n",
    "fake_df = fake_df[fake_df['language'] == 'en']\n",
    "real_df = real_df[real_df['language'] == 'en']"
   ]
  },
  {
   "cell_type": "markdown",
   "id": "c2212931-524a-4d09-8ab1-1dcaf402ff4b",
   "metadata": {},
   "source": [
    "### Plot Tweet Numerical Column Distributions"
   ]
  },
  {
   "cell_type": "code",
   "execution_count": 129,
   "id": "27651d0f-1d01-452a-826c-733b720140bd",
   "metadata": {},
   "outputs": [
    {
     "data": {
      "text/plain": [
       "<Figure size 432x288 with 0 Axes>"
      ]
     },
     "metadata": {},
     "output_type": "display_data"
    }
   ],
   "source": [
    "for df, type in [(fake_df, 'fake'), (real_df, 'real')]:\n",
    "    # Distributions of like count, reply count, retweet count\n",
    "    like_count = df['likes_count'][(df['likes_count'] < 100) & (df['likes_count'] > 10)]\n",
    "    plt.hist(like_count, bins=25)\n",
    "    plt.title('Like Count Distribution - {}'.format(type))\n",
    "    plt.savefig('results/plots/like_count_distribution_{}.jpg'.format(type))\n",
    "    plt.clf()\n",
    "    reply_count = df['replies_count'][(df['replies_count'] < 100) & (df['replies_count'] > 10)]\n",
    "    plt.hist(reply_count, bins=25)\n",
    "    plt.title('Reply Count Distribution - {}'.format(type))\n",
    "    plt.savefig('results/plots/reply_count_distribution_{}.jpg'.format(type))\n",
    "    plt.clf()\n",
    "    retweet_count = df['retweets_count'][(df['retweets_count'] < 100) & (df['retweets_count'] > 10)]\n",
    "    plt.hist(retweet_count, bins=25)\n",
    "    plt.title('Retweet Count Distribution - {}'.format(type))\n",
    "    plt.savefig('results/plots/retweet_count_distribution_{}.jpg'.format(type))\n",
    "    plt.clf()"
   ]
  },
  {
   "cell_type": "markdown",
   "id": "8a4200c9-661e-476b-bb8c-57a3b7320128",
   "metadata": {},
   "source": [
    "### Get Summary Stats for Tweet Numerical Columns"
   ]
  },
  {
   "cell_type": "code",
   "execution_count": 130,
   "id": "44eb6cdf-43c6-43d2-b7fe-4dacc24c821c",
   "metadata": {},
   "outputs": [],
   "source": [
    "for df, type in [(fake_df, 'fake'), (real_df, 'real')]:\n",
    "    # Get summary stats of like, reply, retweet count\n",
    "    stats = df[['likes_count','replies_count','retweets_count']].describe()\n",
    "    dfi.export(stats, 'results/stats/summary_{}.jpg'.format(type))"
   ]
  },
  {
   "cell_type": "markdown",
   "id": "aa02c472-6bff-4f30-a8e6-20041904fd69",
   "metadata": {},
   "source": [
    "### Plot User Data Numerical Columns"
   ]
  },
  {
   "cell_type": "code",
   "execution_count": 131,
   "id": "7235991d-c282-4660-bd19-e54b07e846b2",
   "metadata": {},
   "outputs": [
    {
     "data": {
      "text/plain": [
       "<Figure size 432x288 with 0 Axes>"
      ]
     },
     "metadata": {},
     "output_type": "display_data"
    }
   ],
   "source": [
    "# Plot user data stats\n",
    "for df, type in [(fake_df, 'fake'), (real_df, 'real')]:\n",
    "    # Distributions of like count, reply count, retweet count\n",
    "    follower_count = df['user_followers'][(df['user_followers'] < 10000) & (df['user_followers'] > 10)]\n",
    "    plt.hist(follower_count, bins=25)\n",
    "    plt.title('Follower Count Distribution - {}'.format(type))\n",
    "    plt.savefig('results/plots/follower_count_distribution_{}.jpg'.format(type))\n",
    "    plt.clf()\n",
    "    following_count = df['user_following'][(df['user_following'] < 10000) & (df['user_following'] > 10)]\n",
    "    plt.hist(following_count, bins=25)\n",
    "    plt.title('Following Count Distribution - {}'.format(type))\n",
    "    plt.savefig('results/plots/following_count_distribution_{}.jpg'.format(type))\n",
    "    plt.clf()\n",
    "    user_tweet_count = df['user_tweet_count'][(df['user_tweet_count'] < 100000) & (df['user_tweet_count'] > 10)]\n",
    "    plt.hist(user_tweet_count, bins=25)\n",
    "    plt.title('User Tweet Count Distribution - {}'.format(type))\n",
    "    plt.savefig('results/plots/user_tweet_count_distribution_{}.jpg'.format(type))\n",
    "    plt.clf()"
   ]
  },
  {
   "cell_type": "markdown",
   "id": "6ac28b69-0ffa-4840-a73d-71024c562751",
   "metadata": {},
   "source": [
    "### Get User Data Stats"
   ]
  },
  {
   "cell_type": "code",
   "execution_count": 121,
   "id": "36667876-d3b7-406c-8720-8536600e5797",
   "metadata": {},
   "outputs": [],
   "source": [
    "for df, type in [(fake_df, 'fake'), (real_df, 'real')]:\n",
    "    # Get summary stats of followers, follwing, tweet count\n",
    "    stats = df[['user_followers','user_following','user_tweet_count']].describe()\n",
    "    dfi.export(stats, 'results/stats/user_summary_{}.jpg'.format(type))"
   ]
  },
  {
   "cell_type": "markdown",
   "id": "4e652c7a-391a-409d-9d2a-6fbc5215c5fe",
   "metadata": {},
   "source": [
    "### Plot time series"
   ]
  },
  {
   "cell_type": "code",
   "execution_count": 125,
   "id": "2fa4ba4d-d811-45dd-9ea6-414e33174afe",
   "metadata": {},
   "outputs": [
    {
     "data": {
      "text/plain": [
       "<Figure size 432x288 with 0 Axes>"
      ]
     },
     "metadata": {},
     "output_type": "display_data"
    }
   ],
   "source": [
    "for df, type in [(fake_df, 'fake'), (real_df, 'real')]:\n",
    "    tweet_ts = pd.to_datetime(df['created_at']).dt.date.value_counts()\n",
    "    full_user_ts = pd.to_datetime(df['user_timestamp']).dt.date.value_counts()\n",
    "    \n",
    "    start_date = tweet_ts.index.min()\n",
    "    end_date = tweet_ts.index.max()\n",
    "    user_ts = full_user_ts[(full_user_ts.index >= start_date) & (full_user_ts.index <= end_date)]\n",
    "\n",
    "    plt.scatter(tweet_ts.index, tweet_ts, s=3)\n",
    "    plt.xlabel('Date')\n",
    "    plt.ylabel('Number of Tweets Posted')\n",
    "    plt.xticks(rotation = -45)\n",
    "    plt.title('Time Series of Tweets Posted - {}'.format(type))\n",
    "    plt.tight_layout()\n",
    "    plt.savefig('results/plots/tweet_time_series_{}'.format(type))\n",
    "    plt.clf()\n",
    "\n",
    "    plt.scatter(full_user_ts.index, full_user_ts, s=3)\n",
    "    plt.xlabel('Date')\n",
    "    plt.ylabel('Number of Users Created')\n",
    "    plt.xticks(rotation = -45)\n",
    "    plt.title('Full Time Series of User Account Creations - {}'.format(type))\n",
    "    plt.tight_layout()\n",
    "    plt.savefig('results/plots/full_user_time_series_{}'.format(type))\n",
    "    plt.clf()\n",
    "    \n",
    "    plt.scatter(user_ts.index, user_ts, s=3)\n",
    "    plt.xlabel('Date')\n",
    "    plt.ylabel('Number of Users Created')\n",
    "    plt.xticks(rotation = -45)\n",
    "    plt.title('Truncated Time Series of User Account Creations - {}'.format(type))\n",
    "    plt.tight_layout()\n",
    "    plt.savefig('results/plots/user_time_series_{}'.format(type))\n",
    "    plt.clf()"
   ]
  },
  {
   "cell_type": "markdown",
   "id": "a36dc1f9-c0ec-4161-b3d4-7d72170b1912",
   "metadata": {},
   "source": [
    "### Feature Extraction"
   ]
  },
  {
   "cell_type": "code",
   "execution_count": 137,
   "id": "add54a1a-298a-44fa-893d-cb1de895f42a",
   "metadata": {},
   "outputs": [],
   "source": [
    "for df, type in [(fake_df, 'fake'), (real_df, 'real')]:\n",
    "    # created_at - user_timestamp (in hours)\n",
    "    df['time_diff'] = (pd.to_datetime(df['created_at'], utc=True) - pd.to_datetime(df['user_timestamp'], utc=True)) / pd.Timedelta(hours=1)\n",
    "    # tweet non-whitespace character count\n",
    "    df['char_count'] = df['tweet'].str.replace('[\\s]','', regex=True).str.len()\n",
    "    # tweet number of special characters\n",
    "    df['special_char_count'] = df['tweet'].str.replace('[a-zA-Z0-9\\s]','', regex=True).str.len()\n",
    "    # user value counts\n",
    "    df['user_freq'] = df['user_id'].map(df['user_id'].value_counts())"
   ]
  },
  {
   "cell_type": "code",
   "execution_count": 138,
   "id": "4b684155-accc-4d48-bde9-5ab1c76f5931",
   "metadata": {},
   "outputs": [
    {
     "data": {
      "text/plain": [
       "<Figure size 432x288 with 0 Axes>"
      ]
     },
     "metadata": {},
     "output_type": "display_data"
    }
   ],
   "source": [
    "# Plot distributions\n",
    "for df, type in [(fake_df, 'fake'), (real_df, 'real')]:\n",
    "    # Distributions of like count, reply count, retweet count\n",
    "    time_diff = df['time_diff']\n",
    "    plt.hist(time_diff, bins=25)\n",
    "    plt.title('Account Creation Time - Tweet Time Distribution (hours) - {}'.format(type))\n",
    "    plt.savefig('results/plots/time_diff_distribution_{}.jpg'.format(type))\n",
    "    plt.clf()\n",
    "    char_count = df['char_count'][df['char_count'] < 400]\n",
    "    plt.hist(char_count, bins=25)\n",
    "    plt.title('Character Count Distribution - {}'.format(type))\n",
    "    plt.savefig('results/plots/char_count_distribution_{}.jpg'.format(type))\n",
    "    plt.clf()\n",
    "    special_char_count = df['special_char_count'][df['special_char_count'] < 40]\n",
    "    plt.hist(special_char_count, bins=25)\n",
    "    plt.title('Special Character Count Distribution - {}'.format(type))\n",
    "    plt.savefig('results/plots/special_char_count_distribution_{}.jpg'.format(type))\n",
    "    plt.clf()\n",
    "    user_freq = df['user_freq'][df['user_freq'] < 15]\n",
    "    plt.hist(user_freq, bins=25)\n",
    "    plt.title('User Dataset Frequencies Distribution - {}'.format(type))\n",
    "    plt.savefig('results/plots/user_freq_distribution_{}.jpg'.format(type))\n",
    "    plt.clf()"
   ]
  },
  {
   "cell_type": "code",
   "execution_count": 139,
   "id": "a4350d8f-f76c-4332-9700-3f29f64961f6",
   "metadata": {},
   "outputs": [],
   "source": [
    "# Record statistics\n",
    "for df, type in [(fake_df, 'fake'), (real_df, 'real')]:\n",
    "    # Get summary stats of followers, follwing, tweet count\n",
    "    stats = df[['time_diff','char_count','special_char_count', 'user_freq']].describe()\n",
    "    dfi.export(stats, 'results/stats/extracted_features_summary_{}.jpg'.format(type))"
   ]
  },
  {
   "cell_type": "code",
   "execution_count": 140,
   "id": "4b876e5f-e50f-4463-ac61-9dd6830c27d5",
   "metadata": {},
   "outputs": [],
   "source": [
    "# Add a label column\n",
    "fake_df['label'] = 'fake'\n",
    "real_df['label'] = 'real'\n",
    "\n",
    "# Get the features we want\n",
    "fake_df_model = fake_df[['likes_count','replies_count','retweets_count','user_followers','user_following','user_tweet_count','time_diff','char_count','special_char_count', 'user_freq', 'label']]\n",
    "real_df_model = real_df[['likes_count','replies_count','retweets_count','user_followers','user_following','user_tweet_count','time_diff','char_count','special_char_count', 'user_freq', 'label']]\n",
    "\n",
    "# Combine the dataframes\n",
    "df_model = pd.concat([fake_df_model, real_df_model], axis=0)\n",
    "\n",
    "# Write to file\n",
    "df_model.to_csv('data/processed/model_data/dataset.csv', index=False)"
   ]
  },
  {
   "cell_type": "code",
   "execution_count": null,
   "id": "5301e1f4-5991-46bf-8193-8937d84efa69",
   "metadata": {},
   "outputs": [],
   "source": []
  }
 ],
 "metadata": {
  "kernelspec": {
   "display_name": "Python 3 (ipykernel)",
   "language": "python",
   "name": "python3"
  },
  "language_info": {
   "codemirror_mode": {
    "name": "ipython",
    "version": 3
   },
   "file_extension": ".py",
   "mimetype": "text/x-python",
   "name": "python",
   "nbconvert_exporter": "python",
   "pygments_lexer": "ipython3",
   "version": "3.9.6"
  }
 },
 "nbformat": 4,
 "nbformat_minor": 5
}
