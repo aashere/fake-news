{
 "cells": [
  {
   "cell_type": "code",
   "execution_count": 1,
   "id": "d3bdb590-aa43-4b27-8310-0668c11f7bf7",
   "metadata": {},
   "outputs": [],
   "source": [
    "import pandas as pd\n",
    "import matplotlib.pyplot as plt\n",
    "import dataframe_image as dfi"
   ]
  },
  {
   "cell_type": "code",
   "execution_count": 3,
   "id": "293daaad-1d5d-4919-ae1f-1f769848ea0d",
   "metadata": {},
   "outputs": [],
   "source": [
    "file_paths = {\n",
    "    'fake': {\n",
    "        'read': 'data/processed/full_dataset/fake_dataset.csv'\n",
    "    },\n",
    "    'real': {\n",
    "        'read': 'data/processed/full_dataset/real_dataset.csv'\n",
    "    }\n",
    "}"
   ]
  },
  {
   "cell_type": "code",
   "execution_count": 5,
   "id": "e5c10595-f58b-4fb1-9c70-97d79a2abc21",
   "metadata": {},
   "outputs": [],
   "source": [
    "# Read in the datasets\n",
    "fake_df = pd.read_csv(file_paths['fake']['read'], encoding='utf8')\n",
    "real_df = pd.read_csv(file_paths['real']['read'], encoding='utf8')\n",
    "\n",
    "# Restrict to English only\n",
    "fake_df = fake_df[fake_df['language'] == 'en']\n",
    "real_df = real_df[real_df['language'] == 'en']"
   ]
  },
  {
   "cell_type": "code",
   "execution_count": 7,
   "id": "27651d0f-1d01-452a-826c-733b720140bd",
   "metadata": {},
   "outputs": [
    {
     "data": {
      "text/plain": [
       "<Figure size 432x288 with 0 Axes>"
      ]
     },
     "metadata": {},
     "output_type": "display_data"
    }
   ],
   "source": [
    "for df, type in [(fake_df, 'fake'), (real_df, 'real')]:\n",
    "    # Distributions of like count, reply count, retweet count\n",
    "    like_count = df['likes_count'][(df['likes_count'] < 100) & (df['likes_count'] > 10)]\n",
    "    plt.hist(like_count, bins=25)\n",
    "    plt.savefig('results/plots/like_count_distribution_{}.jpg'.format(type))\n",
    "    plt.clf()\n",
    "    reply_count = df['replies_count'][(df['replies_count'] < 100) & (df['replies_count'] > 10)]\n",
    "    plt.hist(reply_count, bins=25)\n",
    "    plt.savefig('results/plots/reply_count_distribution_{}.jpg'.format(type))\n",
    "    plt.clf()\n",
    "    retweet_count = df['retweets_count'][(df['retweets_count'] < 100) & (df['retweets_count'] > 10)]\n",
    "    plt.hist(retweet_count, bins=25)\n",
    "    plt.savefig('results/plots/retweet_count_distribution_{}.jpg'.format(type))\n",
    "    plt.clf()"
   ]
  },
  {
   "cell_type": "code",
   "execution_count": null,
   "id": "44eb6cdf-43c6-43d2-b7fe-4dacc24c821c",
   "metadata": {},
   "outputs": [],
   "source": [
    "for df, type in [(fake_df, 'fake'), (real_df, 'real')]:\n",
    "    # Get summary stats of like, reply, retweet count\n",
    "    stats = df[['likes_count','replies_count','retweets_count']].describe()\n",
    "    dfi.export(stats, 'results/stats/summary_{}.jpg'.format(type))"
   ]
  },
  {
   "cell_type": "code",
   "execution_count": null,
   "id": "49f544f4-6cc5-4810-bfda-91cfe969bf6b",
   "metadata": {},
   "outputs": [],
   "source": []
  }
 ],
 "metadata": {
  "kernelspec": {
   "display_name": "Python 3 (ipykernel)",
   "language": "python",
   "name": "python3"
  },
  "language_info": {
   "codemirror_mode": {
    "name": "ipython",
    "version": 3
   },
   "file_extension": ".py",
   "mimetype": "text/x-python",
   "name": "python",
   "nbconvert_exporter": "python",
   "pygments_lexer": "ipython3",
   "version": "3.9.6"
  }
 },
 "nbformat": 4,
 "nbformat_minor": 5
}
