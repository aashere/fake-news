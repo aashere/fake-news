{
 "cells": [
  {
   "cell_type": "code",
   "execution_count": 1,
   "id": "567239e2-a996-4d1a-a259-826d7c650d8a",
   "metadata": {},
   "outputs": [],
   "source": [
    "import pandas as pd\n",
    "import numpy as np"
   ]
  },
  {
   "cell_type": "code",
   "execution_count": 2,
   "id": "e147941d-2457-411c-a698-d1a9f6b507ce",
   "metadata": {},
   "outputs": [
    {
     "data": {
      "text/html": [
       "<div>\n",
       "<style scoped>\n",
       "    .dataframe tbody tr th:only-of-type {\n",
       "        vertical-align: middle;\n",
       "    }\n",
       "\n",
       "    .dataframe tbody tr th {\n",
       "        vertical-align: top;\n",
       "    }\n",
       "\n",
       "    .dataframe thead th {\n",
       "        text-align: right;\n",
       "    }\n",
       "</style>\n",
       "<table border=\"1\" class=\"dataframe\">\n",
       "  <thead>\n",
       "    <tr style=\"text-align: right;\">\n",
       "      <th></th>\n",
       "      <th>likes_count</th>\n",
       "      <th>replies_count</th>\n",
       "      <th>retweets_count</th>\n",
       "      <th>user_followers</th>\n",
       "      <th>user_following</th>\n",
       "      <th>user_tweet_count</th>\n",
       "      <th>time_diff</th>\n",
       "      <th>char_count</th>\n",
       "      <th>special_char_count</th>\n",
       "      <th>user_freq</th>\n",
       "      <th>label</th>\n",
       "    </tr>\n",
       "  </thead>\n",
       "  <tbody>\n",
       "    <tr>\n",
       "      <th>0</th>\n",
       "      <td>0.0</td>\n",
       "      <td>0.0</td>\n",
       "      <td>0.0</td>\n",
       "      <td>11048.0</td>\n",
       "      <td>12139.0</td>\n",
       "      <td>132952.0</td>\n",
       "      <td>85241.847222</td>\n",
       "      <td>248</td>\n",
       "      <td>9</td>\n",
       "      <td>3</td>\n",
       "      <td>fake</td>\n",
       "    </tr>\n",
       "    <tr>\n",
       "      <th>1</th>\n",
       "      <td>0.0</td>\n",
       "      <td>0.0</td>\n",
       "      <td>0.0</td>\n",
       "      <td>1.0</td>\n",
       "      <td>28.0</td>\n",
       "      <td>406.0</td>\n",
       "      <td>28880.900000</td>\n",
       "      <td>256</td>\n",
       "      <td>4</td>\n",
       "      <td>1</td>\n",
       "      <td>fake</td>\n",
       "    </tr>\n",
       "    <tr>\n",
       "      <th>2</th>\n",
       "      <td>20.0</td>\n",
       "      <td>9.0</td>\n",
       "      <td>0.0</td>\n",
       "      <td>1151.0</td>\n",
       "      <td>1263.0</td>\n",
       "      <td>12830.0</td>\n",
       "      <td>56963.965000</td>\n",
       "      <td>254</td>\n",
       "      <td>13</td>\n",
       "      <td>3</td>\n",
       "      <td>fake</td>\n",
       "    </tr>\n",
       "    <tr>\n",
       "      <th>3</th>\n",
       "      <td>1.0</td>\n",
       "      <td>3.0</td>\n",
       "      <td>0.0</td>\n",
       "      <td>NaN</td>\n",
       "      <td>NaN</td>\n",
       "      <td>NaN</td>\n",
       "      <td>NaN</td>\n",
       "      <td>299</td>\n",
       "      <td>15</td>\n",
       "      <td>1</td>\n",
       "      <td>fake</td>\n",
       "    </tr>\n",
       "    <tr>\n",
       "      <th>4</th>\n",
       "      <td>1.0</td>\n",
       "      <td>2.0</td>\n",
       "      <td>2.0</td>\n",
       "      <td>779.0</td>\n",
       "      <td>2408.0</td>\n",
       "      <td>17014.0</td>\n",
       "      <td>12471.530000</td>\n",
       "      <td>226</td>\n",
       "      <td>10</td>\n",
       "      <td>1</td>\n",
       "      <td>fake</td>\n",
       "    </tr>\n",
       "    <tr>\n",
       "      <th>...</th>\n",
       "      <td>...</td>\n",
       "      <td>...</td>\n",
       "      <td>...</td>\n",
       "      <td>...</td>\n",
       "      <td>...</td>\n",
       "      <td>...</td>\n",
       "      <td>...</td>\n",
       "      <td>...</td>\n",
       "      <td>...</td>\n",
       "      <td>...</td>\n",
       "      <td>...</td>\n",
       "    </tr>\n",
       "    <tr>\n",
       "      <th>75300</th>\n",
       "      <td>4.0</td>\n",
       "      <td>0.0</td>\n",
       "      <td>1.0</td>\n",
       "      <td>1671.0</td>\n",
       "      <td>2879.0</td>\n",
       "      <td>11472.0</td>\n",
       "      <td>2661.463333</td>\n",
       "      <td>188</td>\n",
       "      <td>12</td>\n",
       "      <td>1</td>\n",
       "      <td>real</td>\n",
       "    </tr>\n",
       "    <tr>\n",
       "      <th>75301</th>\n",
       "      <td>1.0</td>\n",
       "      <td>1.0</td>\n",
       "      <td>0.0</td>\n",
       "      <td>2313.0</td>\n",
       "      <td>861.0</td>\n",
       "      <td>138518.0</td>\n",
       "      <td>91662.934722</td>\n",
       "      <td>135</td>\n",
       "      <td>10</td>\n",
       "      <td>1</td>\n",
       "      <td>real</td>\n",
       "    </tr>\n",
       "    <tr>\n",
       "      <th>75302</th>\n",
       "      <td>0.0</td>\n",
       "      <td>1.0</td>\n",
       "      <td>0.0</td>\n",
       "      <td>1.0</td>\n",
       "      <td>26.0</td>\n",
       "      <td>241.0</td>\n",
       "      <td>5481.786389</td>\n",
       "      <td>205</td>\n",
       "      <td>7</td>\n",
       "      <td>1</td>\n",
       "      <td>real</td>\n",
       "    </tr>\n",
       "    <tr>\n",
       "      <th>75303</th>\n",
       "      <td>0.0</td>\n",
       "      <td>0.0</td>\n",
       "      <td>0.0</td>\n",
       "      <td>17.0</td>\n",
       "      <td>80.0</td>\n",
       "      <td>495.0</td>\n",
       "      <td>-1.683333</td>\n",
       "      <td>184</td>\n",
       "      <td>17</td>\n",
       "      <td>1</td>\n",
       "      <td>real</td>\n",
       "    </tr>\n",
       "    <tr>\n",
       "      <th>75304</th>\n",
       "      <td>2.0</td>\n",
       "      <td>0.0</td>\n",
       "      <td>0.0</td>\n",
       "      <td>32000.0</td>\n",
       "      <td>22313.0</td>\n",
       "      <td>36677.0</td>\n",
       "      <td>112940.284167</td>\n",
       "      <td>230</td>\n",
       "      <td>15</td>\n",
       "      <td>1</td>\n",
       "      <td>real</td>\n",
       "    </tr>\n",
       "  </tbody>\n",
       "</table>\n",
       "<p>75305 rows × 11 columns</p>\n",
       "</div>"
      ],
      "text/plain": [
       "       likes_count  replies_count  retweets_count  user_followers  \\\n",
       "0              0.0            0.0             0.0         11048.0   \n",
       "1              0.0            0.0             0.0             1.0   \n",
       "2             20.0            9.0             0.0          1151.0   \n",
       "3              1.0            3.0             0.0             NaN   \n",
       "4              1.0            2.0             2.0           779.0   \n",
       "...            ...            ...             ...             ...   \n",
       "75300          4.0            0.0             1.0          1671.0   \n",
       "75301          1.0            1.0             0.0          2313.0   \n",
       "75302          0.0            1.0             0.0             1.0   \n",
       "75303          0.0            0.0             0.0            17.0   \n",
       "75304          2.0            0.0             0.0         32000.0   \n",
       "\n",
       "       user_following  user_tweet_count      time_diff  char_count  \\\n",
       "0             12139.0          132952.0   85241.847222         248   \n",
       "1                28.0             406.0   28880.900000         256   \n",
       "2              1263.0           12830.0   56963.965000         254   \n",
       "3                 NaN               NaN            NaN         299   \n",
       "4              2408.0           17014.0   12471.530000         226   \n",
       "...               ...               ...            ...         ...   \n",
       "75300          2879.0           11472.0    2661.463333         188   \n",
       "75301           861.0          138518.0   91662.934722         135   \n",
       "75302            26.0             241.0    5481.786389         205   \n",
       "75303            80.0             495.0      -1.683333         184   \n",
       "75304         22313.0           36677.0  112940.284167         230   \n",
       "\n",
       "       special_char_count  user_freq label  \n",
       "0                       9          3  fake  \n",
       "1                       4          1  fake  \n",
       "2                      13          3  fake  \n",
       "3                      15          1  fake  \n",
       "4                      10          1  fake  \n",
       "...                   ...        ...   ...  \n",
       "75300                  12          1  real  \n",
       "75301                  10          1  real  \n",
       "75302                   7          1  real  \n",
       "75303                  17          1  real  \n",
       "75304                  15          1  real  \n",
       "\n",
       "[75305 rows x 11 columns]"
      ]
     },
     "execution_count": 2,
     "metadata": {},
     "output_type": "execute_result"
    }
   ],
   "source": [
    "df = pd.read_csv('data/processed/model_data/dataset.csv', encoding='utf8')\n",
    "df"
   ]
  },
  {
   "cell_type": "markdown",
   "id": "af47f1e6-5127-4436-ba76-08f2825a595d",
   "metadata": {},
   "source": [
    "### Preprocessing"
   ]
  },
  {
   "cell_type": "code",
   "execution_count": 3,
   "id": "09e5c01d-5d11-42f9-9321-754526510ea0",
   "metadata": {},
   "outputs": [
    {
     "data": {
      "text/plain": [
       "4"
      ]
     },
     "execution_count": 3,
     "metadata": {},
     "output_type": "execute_result"
    }
   ],
   "source": [
    "# Number of rows with missing values\n",
    "df.isna().any().sum()"
   ]
  },
  {
   "cell_type": "code",
   "execution_count": 4,
   "id": "1a9ed621-96b0-4feb-af53-655ee7bc680c",
   "metadata": {},
   "outputs": [
    {
     "data": {
      "text/html": [
       "<div>\n",
       "<style scoped>\n",
       "    .dataframe tbody tr th:only-of-type {\n",
       "        vertical-align: middle;\n",
       "    }\n",
       "\n",
       "    .dataframe tbody tr th {\n",
       "        vertical-align: top;\n",
       "    }\n",
       "\n",
       "    .dataframe thead th {\n",
       "        text-align: right;\n",
       "    }\n",
       "</style>\n",
       "<table border=\"1\" class=\"dataframe\">\n",
       "  <thead>\n",
       "    <tr style=\"text-align: right;\">\n",
       "      <th></th>\n",
       "      <th>likes_count</th>\n",
       "      <th>replies_count</th>\n",
       "      <th>retweets_count</th>\n",
       "      <th>user_followers</th>\n",
       "      <th>user_following</th>\n",
       "      <th>user_tweet_count</th>\n",
       "      <th>time_diff</th>\n",
       "      <th>char_count</th>\n",
       "      <th>special_char_count</th>\n",
       "      <th>user_freq</th>\n",
       "      <th>label</th>\n",
       "    </tr>\n",
       "  </thead>\n",
       "  <tbody>\n",
       "    <tr>\n",
       "      <th>0</th>\n",
       "      <td>0.0</td>\n",
       "      <td>0.0</td>\n",
       "      <td>0.0</td>\n",
       "      <td>11048.0</td>\n",
       "      <td>12139.0</td>\n",
       "      <td>132952.0</td>\n",
       "      <td>85241.847222</td>\n",
       "      <td>248</td>\n",
       "      <td>9</td>\n",
       "      <td>3</td>\n",
       "      <td>fake</td>\n",
       "    </tr>\n",
       "    <tr>\n",
       "      <th>1</th>\n",
       "      <td>0.0</td>\n",
       "      <td>0.0</td>\n",
       "      <td>0.0</td>\n",
       "      <td>1.0</td>\n",
       "      <td>28.0</td>\n",
       "      <td>406.0</td>\n",
       "      <td>28880.900000</td>\n",
       "      <td>256</td>\n",
       "      <td>4</td>\n",
       "      <td>1</td>\n",
       "      <td>fake</td>\n",
       "    </tr>\n",
       "    <tr>\n",
       "      <th>2</th>\n",
       "      <td>20.0</td>\n",
       "      <td>9.0</td>\n",
       "      <td>0.0</td>\n",
       "      <td>1151.0</td>\n",
       "      <td>1263.0</td>\n",
       "      <td>12830.0</td>\n",
       "      <td>56963.965000</td>\n",
       "      <td>254</td>\n",
       "      <td>13</td>\n",
       "      <td>3</td>\n",
       "      <td>fake</td>\n",
       "    </tr>\n",
       "    <tr>\n",
       "      <th>4</th>\n",
       "      <td>1.0</td>\n",
       "      <td>2.0</td>\n",
       "      <td>2.0</td>\n",
       "      <td>779.0</td>\n",
       "      <td>2408.0</td>\n",
       "      <td>17014.0</td>\n",
       "      <td>12471.530000</td>\n",
       "      <td>226</td>\n",
       "      <td>10</td>\n",
       "      <td>1</td>\n",
       "      <td>fake</td>\n",
       "    </tr>\n",
       "    <tr>\n",
       "      <th>5</th>\n",
       "      <td>0.0</td>\n",
       "      <td>1.0</td>\n",
       "      <td>0.0</td>\n",
       "      <td>206.0</td>\n",
       "      <td>1921.0</td>\n",
       "      <td>5563.0</td>\n",
       "      <td>46492.581667</td>\n",
       "      <td>239</td>\n",
       "      <td>8</td>\n",
       "      <td>1</td>\n",
       "      <td>fake</td>\n",
       "    </tr>\n",
       "    <tr>\n",
       "      <th>...</th>\n",
       "      <td>...</td>\n",
       "      <td>...</td>\n",
       "      <td>...</td>\n",
       "      <td>...</td>\n",
       "      <td>...</td>\n",
       "      <td>...</td>\n",
       "      <td>...</td>\n",
       "      <td>...</td>\n",
       "      <td>...</td>\n",
       "      <td>...</td>\n",
       "      <td>...</td>\n",
       "    </tr>\n",
       "    <tr>\n",
       "      <th>75300</th>\n",
       "      <td>4.0</td>\n",
       "      <td>0.0</td>\n",
       "      <td>1.0</td>\n",
       "      <td>1671.0</td>\n",
       "      <td>2879.0</td>\n",
       "      <td>11472.0</td>\n",
       "      <td>2661.463333</td>\n",
       "      <td>188</td>\n",
       "      <td>12</td>\n",
       "      <td>1</td>\n",
       "      <td>real</td>\n",
       "    </tr>\n",
       "    <tr>\n",
       "      <th>75301</th>\n",
       "      <td>1.0</td>\n",
       "      <td>1.0</td>\n",
       "      <td>0.0</td>\n",
       "      <td>2313.0</td>\n",
       "      <td>861.0</td>\n",
       "      <td>138518.0</td>\n",
       "      <td>91662.934722</td>\n",
       "      <td>135</td>\n",
       "      <td>10</td>\n",
       "      <td>1</td>\n",
       "      <td>real</td>\n",
       "    </tr>\n",
       "    <tr>\n",
       "      <th>75302</th>\n",
       "      <td>0.0</td>\n",
       "      <td>1.0</td>\n",
       "      <td>0.0</td>\n",
       "      <td>1.0</td>\n",
       "      <td>26.0</td>\n",
       "      <td>241.0</td>\n",
       "      <td>5481.786389</td>\n",
       "      <td>205</td>\n",
       "      <td>7</td>\n",
       "      <td>1</td>\n",
       "      <td>real</td>\n",
       "    </tr>\n",
       "    <tr>\n",
       "      <th>75303</th>\n",
       "      <td>0.0</td>\n",
       "      <td>0.0</td>\n",
       "      <td>0.0</td>\n",
       "      <td>17.0</td>\n",
       "      <td>80.0</td>\n",
       "      <td>495.0</td>\n",
       "      <td>-1.683333</td>\n",
       "      <td>184</td>\n",
       "      <td>17</td>\n",
       "      <td>1</td>\n",
       "      <td>real</td>\n",
       "    </tr>\n",
       "    <tr>\n",
       "      <th>75304</th>\n",
       "      <td>2.0</td>\n",
       "      <td>0.0</td>\n",
       "      <td>0.0</td>\n",
       "      <td>32000.0</td>\n",
       "      <td>22313.0</td>\n",
       "      <td>36677.0</td>\n",
       "      <td>112940.284167</td>\n",
       "      <td>230</td>\n",
       "      <td>15</td>\n",
       "      <td>1</td>\n",
       "      <td>real</td>\n",
       "    </tr>\n",
       "  </tbody>\n",
       "</table>\n",
       "<p>70956 rows × 11 columns</p>\n",
       "</div>"
      ],
      "text/plain": [
       "       likes_count  replies_count  retweets_count  user_followers  \\\n",
       "0              0.0            0.0             0.0         11048.0   \n",
       "1              0.0            0.0             0.0             1.0   \n",
       "2             20.0            9.0             0.0          1151.0   \n",
       "4              1.0            2.0             2.0           779.0   \n",
       "5              0.0            1.0             0.0           206.0   \n",
       "...            ...            ...             ...             ...   \n",
       "75300          4.0            0.0             1.0          1671.0   \n",
       "75301          1.0            1.0             0.0          2313.0   \n",
       "75302          0.0            1.0             0.0             1.0   \n",
       "75303          0.0            0.0             0.0            17.0   \n",
       "75304          2.0            0.0             0.0         32000.0   \n",
       "\n",
       "       user_following  user_tweet_count      time_diff  char_count  \\\n",
       "0             12139.0          132952.0   85241.847222         248   \n",
       "1                28.0             406.0   28880.900000         256   \n",
       "2              1263.0           12830.0   56963.965000         254   \n",
       "4              2408.0           17014.0   12471.530000         226   \n",
       "5              1921.0            5563.0   46492.581667         239   \n",
       "...               ...               ...            ...         ...   \n",
       "75300          2879.0           11472.0    2661.463333         188   \n",
       "75301           861.0          138518.0   91662.934722         135   \n",
       "75302            26.0             241.0    5481.786389         205   \n",
       "75303            80.0             495.0      -1.683333         184   \n",
       "75304         22313.0           36677.0  112940.284167         230   \n",
       "\n",
       "       special_char_count  user_freq label  \n",
       "0                       9          3  fake  \n",
       "1                       4          1  fake  \n",
       "2                      13          3  fake  \n",
       "4                      10          1  fake  \n",
       "5                       8          1  fake  \n",
       "...                   ...        ...   ...  \n",
       "75300                  12          1  real  \n",
       "75301                  10          1  real  \n",
       "75302                   7          1  real  \n",
       "75303                  17          1  real  \n",
       "75304                  15          1  real  \n",
       "\n",
       "[70956 rows x 11 columns]"
      ]
     },
     "execution_count": 4,
     "metadata": {},
     "output_type": "execute_result"
    }
   ],
   "source": [
    "# Let's just drop missing value rows\n",
    "df = df.dropna()\n",
    "df"
   ]
  },
  {
   "cell_type": "code",
   "execution_count": 5,
   "id": "6b9caf22-5beb-4136-aeb2-8e796992b9e6",
   "metadata": {},
   "outputs": [
    {
     "name": "stderr",
     "output_type": "stream",
     "text": [
      "c:\\python39\\lib\\site-packages\\pandas\\core\\indexing.py:1835: SettingWithCopyWarning: \n",
      "A value is trying to be set on a copy of a slice from a DataFrame.\n",
      "Try using .loc[row_indexer,col_indexer] = value instead\n",
      "\n",
      "See the caveats in the documentation: https://pandas.pydata.org/pandas-docs/stable/user_guide/indexing.html#returning-a-view-versus-a-copy\n",
      "  self._setitem_single_column(loc, value[:, i].tolist(), pi)\n"
     ]
    },
    {
     "data": {
      "text/plain": [
       "0        0\n",
       "1        0\n",
       "2        0\n",
       "4        0\n",
       "5        0\n",
       "        ..\n",
       "75300    1\n",
       "75301    1\n",
       "75302    1\n",
       "75303    1\n",
       "75304    1\n",
       "Name: label, Length: 70956, dtype: int64"
      ]
     },
     "execution_count": 5,
     "metadata": {},
     "output_type": "execute_result"
    }
   ],
   "source": [
    "# Encode the label column\n",
    "from sklearn.preprocessing import LabelBinarizer\n",
    "lb = LabelBinarizer()\n",
    "\n",
    "df.loc[:,'label'] = lb.fit_transform(df['label'].to_numpy())\n",
    "df['label']"
   ]
  },
  {
   "cell_type": "code",
   "execution_count": 6,
   "id": "af0f848a-88ed-4e32-8567-d1bb8409ad90",
   "metadata": {},
   "outputs": [
    {
     "data": {
      "text/plain": [
       "0    37153\n",
       "1    33803\n",
       "Name: label, dtype: int64"
      ]
     },
     "execution_count": 6,
     "metadata": {},
     "output_type": "execute_result"
    }
   ],
   "source": [
    "# Class balance looks ok\n",
    "df['label'].value_counts()"
   ]
  },
  {
   "cell_type": "code",
   "execution_count": 7,
   "id": "38c5de60-d14d-4c4f-b910-ab58b3511ba8",
   "metadata": {},
   "outputs": [],
   "source": [
    "# Shuffle data and convert to Numpy\n",
    "from sklearn.model_selection import train_test_split\n",
    "\n",
    "df = df.sample(frac = 1)\n",
    "X_train, X_test, y_train, y_test = train_test_split(df.iloc[:,:-1].to_numpy(), df['label'].to_numpy(), train_size=0.8)"
   ]
  },
  {
   "cell_type": "markdown",
   "id": "c788cc60-7f3f-476d-bd11-7ca9076e91b1",
   "metadata": {},
   "source": [
    "### Modeling"
   ]
  },
  {
   "cell_type": "code",
   "execution_count": 8,
   "id": "f2db9a98-8639-4f4f-8930-e69ebfe4198b",
   "metadata": {},
   "outputs": [],
   "source": [
    "from sklearn.linear_model import LogisticRegression as LR\n",
    "from sklearn.model_selection import cross_val_score\n",
    "from sklearn.feature_selection import mutual_info_classif\n",
    "from sklearn.decomposition import PCA\n",
    "from sklearn.ensemble import RandomForestClassifier as RF"
   ]
  },
  {
   "cell_type": "markdown",
   "id": "120c80aa-9c7b-4284-be80-65aaf33aa96c",
   "metadata": {},
   "source": [
    "#### Feature Selection"
   ]
  },
  {
   "cell_type": "code",
   "execution_count": 9,
   "id": "8ef3d02d-5567-409e-bcc2-25853482032b",
   "metadata": {},
   "outputs": [
    {
     "data": {
      "text/plain": [
       "user_tweet_count      0.048545\n",
       "user_followers        0.031752\n",
       "time_diff             0.026463\n",
       "user_following        0.019628\n",
       "user_freq             0.018395\n",
       "char_count            0.016691\n",
       "special_char_count    0.007339\n",
       "retweets_count        0.003372\n",
       "replies_count         0.002594\n",
       "likes_count           0.000669\n",
       "dtype: float64"
      ]
     },
     "execution_count": 9,
     "metadata": {},
     "output_type": "execute_result"
    }
   ],
   "source": [
    "# Look at mutual information on train set\n",
    "mutual_info = mutual_info_classif(X_train, y_train, discrete_features=False, random_state=0)\n",
    "mutual_info = pd.Series(mutual_info, index=df.columns[df.columns != 'label']).sort_values(ascending=False)\n",
    "mutual_info"
   ]
  },
  {
   "cell_type": "markdown",
   "id": "3cf52af0-cb46-4001-be01-9b18311d23e6",
   "metadata": {},
   "source": [
    "#### Baseline LR"
   ]
  },
  {
   "cell_type": "code",
   "execution_count": 10,
   "id": "086c8205-e658-4747-93bb-f47e19143d99",
   "metadata": {},
   "outputs": [
    {
     "data": {
      "text/plain": [
       "0.11190037176691599"
      ]
     },
     "execution_count": 10,
     "metadata": {},
     "output_type": "execute_result"
    }
   ],
   "source": [
    "# Score with all features\n",
    "clf = LR()\n",
    "scores = cross_val_score(clf, X_train, y_train, cv=3, scoring='f1')\n",
    "baseline_score = scores.mean()\n",
    "baseline_score"
   ]
  },
  {
   "cell_type": "code",
   "execution_count": 11,
   "id": "72f0d1a7-932c-4dcc-a287-57bd71e98781",
   "metadata": {},
   "outputs": [
    {
     "data": {
      "text/plain": [
       "0.6194553187875905"
      ]
     },
     "execution_count": 11,
     "metadata": {},
     "output_type": "execute_result"
    }
   ],
   "source": [
    "# Try with RF\n",
    "rf_clf = RF()\n",
    "scores = cross_val_score(rf_clf, X_train, y_train, cv=3, scoring='f1')\n",
    "rf_score = scores.mean()\n",
    "rf_score"
   ]
  },
  {
   "cell_type": "code",
   "execution_count": 12,
   "id": "92512699-f175-4336-a5eb-ed59b4ce8e18",
   "metadata": {},
   "outputs": [],
   "source": [
    "# Try with top 5 MI features\n",
    "new_feature_set = ['user_tweet_count','user_followers','time_diff', 'char_count', 'user_following']\n",
    "feature_idxs = [df.columns.get_loc(f) for f in new_feature_set]\n",
    "X_train_MI = X_train[:,feature_idxs]"
   ]
  },
  {
   "cell_type": "code",
   "execution_count": 16,
   "id": "262768e0-9657-4fce-8244-767d02f8c625",
   "metadata": {},
   "outputs": [
    {
     "data": {
      "text/plain": [
       "0.1122929683511198"
      ]
     },
     "execution_count": 16,
     "metadata": {},
     "output_type": "execute_result"
    }
   ],
   "source": [
    "# Try again with baseline model\n",
    "scores = cross_val_score(clf, X_train_MI, y_train, cv=3, scoring='f1')\n",
    "score = scores.mean()\n",
    "score"
   ]
  },
  {
   "cell_type": "code",
   "execution_count": 17,
   "id": "1c7ae7e5-f125-4352-a021-d63f293eb64e",
   "metadata": {},
   "outputs": [
    {
     "data": {
      "text/plain": [
       "0.5660976640824394"
      ]
     },
     "execution_count": 17,
     "metadata": {},
     "output_type": "execute_result"
    }
   ],
   "source": [
    "# Try again with RF model\n",
    "scores = cross_val_score(rf_clf, X_train_MI, y_train, cv=3, scoring='f1')\n",
    "score = scores.mean()\n",
    "score"
   ]
  },
  {
   "cell_type": "code",
   "execution_count": 14,
   "id": "4c1516a8-0e61-49f4-9577-4ada0fd0daec",
   "metadata": {},
   "outputs": [
    {
     "data": {
      "text/plain": [
       "array([9.86905302e-01, 1.15086668e-02, 1.49822928e-03, 8.73805674e-05,\n",
       "       4.11875071e-07, 5.16964685e-09, 3.82021121e-09, 2.09251700e-10,\n",
       "       2.46952168e-11, 2.24028611e-11])"
      ]
     },
     "execution_count": 14,
     "metadata": {},
     "output_type": "execute_result"
    }
   ],
   "source": [
    "# Worse - let's look at PCA\n",
    "pca = PCA().fit(X_train)\n",
    "pcomps = pca.transform(X_train)\n",
    "pc_col_names = [\"PC\"+str(i) for i in range(X_train.shape[1])]\n",
    "pcomps_train = pd.DataFrame(pcomps, columns=pc_col_names)\n",
    "\n",
    "pca.explained_variance_ratio_"
   ]
  },
  {
   "cell_type": "code",
   "execution_count": 15,
   "id": "9f2eb826-b264-479c-91ea-aecb37aa08a6",
   "metadata": {},
   "outputs": [],
   "source": [
    "# Looks like there is very high unexplained variance (~98%). These features are mostly noise.\n",
    "# We are not going to get good results"
   ]
  },
  {
   "cell_type": "code",
   "execution_count": null,
   "id": "5aeade38-4c58-4e9a-be05-b4feec687b49",
   "metadata": {},
   "outputs": [],
   "source": []
  }
 ],
 "metadata": {
  "kernelspec": {
   "display_name": "Python 3 (ipykernel)",
   "language": "python",
   "name": "python3"
  },
  "language_info": {
   "codemirror_mode": {
    "name": "ipython",
    "version": 3
   },
   "file_extension": ".py",
   "mimetype": "text/x-python",
   "name": "python",
   "nbconvert_exporter": "python",
   "pygments_lexer": "ipython3",
   "version": "3.9.6"
  }
 },
 "nbformat": 4,
 "nbformat_minor": 5
}
